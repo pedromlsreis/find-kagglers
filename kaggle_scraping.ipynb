{
 "cells": [
  {
   "cell_type": "code",
   "execution_count": 1,
   "metadata": {},
   "outputs": [
    {
     "name": "stdout",
     "output_type": "stream",
     "text": [
      "2960\n"
     ]
    }
   ],
   "source": [
    "# https://stackoverflow.com/questions/21006940/how-to-load-all-entries-in-an-infinite-scroll-at-once-to-parse-the-html-in-pytho?noredirect=1&lq=1\n",
    "# https://github.com/SeleniumHQ/docker-selenium/issues/87\n",
    "\n",
    "import time\n",
    "\n",
    "from selenium import webdriver\n",
    "from selenium.webdriver.common.keys import Keys\n",
    "\n",
    "browser = webdriver.Chrome(\"chromedriver.exe\")\n",
    "browser.get(\"https://www.kaggle.com/rankings?group=competitions\")\n",
    "time.sleep(1)\n",
    "\n",
    "elem = browser.find_element_by_tag_name(\"body\")\n",
    "\n",
    "no_of_pagedowns = 200  # *10 ~= total #experimentar 190 para dar 3000 certos\n",
    "\n",
    "while no_of_pagedowns:\n",
    "    elem.send_keys(Keys.PAGE_DOWN)\n",
    "    time.sleep(0.2)\n",
    "    no_of_pagedowns-=1\n",
    "\n",
    "post_elems = browser.find_elements_by_class_name(\"block-link__anchor\")\n",
    "\n",
    "urls = []\n",
    "for post in post_elems:\n",
    "    urls.append(post.get_attribute(\"href\"))\n",
    "    \n",
    "print(len(urls))"
   ]
  },
  {
   "cell_type": "code",
   "execution_count": 3,
   "metadata": {
    "scrolled": true
   },
   "outputs": [
    {
     "name": "stdout",
     "output_type": "stream",
     "text": [
      "Collecting data...\n",
      "1.00%Done.\n"
     ]
    }
   ],
   "source": [
    "# http://www.pythonforbeginners.com/python-on-the-web/web-scraping-with-beautifulsoup/\n",
    "from bs4 import BeautifulSoup\n",
    "import requests, sys\n",
    "\n",
    "cities = []\n",
    "countries = []\n",
    "print(\"Collecting data...\")\n",
    "for i, url in enumerate(urls):\n",
    "    sys.stdout.write(\"\\r%.2f%%\" % (100*(i+1)/len(urls)))\n",
    "    r = requests.get(url)\n",
    "    data = r.text\n",
    "    start_country = data.find(\"country\")\n",
    "    end_country = data[start_country:].find(\",\")\n",
    "    country = data[start_country + 10: start_country + end_country - 1]\n",
    "    if country == 'ul':\n",
    "        country = ''\n",
    "    countries.append(country)\n",
    "    start_city = data.find(\"city\")\n",
    "    end_city = data[start_city:].find(\",\")\n",
    "    city = data[start_city + 7: start_city + end_city - 1]\n",
    "    if city == 'ul':\n",
    "        city = ''\n",
    "    cities.append(city)\n",
    "    time.sleep(0.2)\n",
    "    sys.stdout.flush()\n",
    "print(\"Done.\")"
   ]
  },
  {
   "cell_type": "code",
   "execution_count": 4,
   "metadata": {},
   "outputs": [
    {
     "data": {
      "text/html": [
       "<div>\n",
       "<style>\n",
       "    .dataframe thead tr:only-child th {\n",
       "        text-align: right;\n",
       "    }\n",
       "\n",
       "    .dataframe thead th {\n",
       "        text-align: left;\n",
       "    }\n",
       "\n",
       "    .dataframe tbody tr th {\n",
       "        vertical-align: top;\n",
       "    }\n",
       "</style>\n",
       "<table border=\"1\" class=\"dataframe\">\n",
       "  <thead>\n",
       "    <tr style=\"text-align: right;\">\n",
       "      <th></th>\n",
       "      <th>City</th>\n",
       "      <th>Country</th>\n",
       "      <th>Link</th>\n",
       "    </tr>\n",
       "  </thead>\n",
       "  <tbody>\n",
       "    <tr>\n",
       "      <th>0</th>\n",
       "      <td>São Francisco</td>\n",
       "      <td>Estados Unidos</td>\n",
       "      <td>https://www.kaggle.com/titericz</td>\n",
       "    </tr>\n",
       "    <tr>\n",
       "      <th>1</th>\n",
       "      <td>Volos</td>\n",
       "      <td>GR</td>\n",
       "      <td>https://www.kaggle.com/kazanova</td>\n",
       "    </tr>\n",
       "    <tr>\n",
       "      <th>2</th>\n",
       "      <td>Moscow</td>\n",
       "      <td>Russian Federation</td>\n",
       "      <td>https://www.kaggle.com/stasg7</td>\n",
       "    </tr>\n",
       "    <tr>\n",
       "      <th>3</th>\n",
       "      <td></td>\n",
       "      <td></td>\n",
       "      <td>https://www.kaggle.com/bestfitting</td>\n",
       "    </tr>\n",
       "    <tr>\n",
       "      <th>4</th>\n",
       "      <td>Deutschland</td>\n",
       "      <td></td>\n",
       "      <td>https://www.kaggle.com/mmueller</td>\n",
       "    </tr>\n",
       "  </tbody>\n",
       "</table>\n",
       "</div>"
      ],
      "text/plain": [
       "            City             Country                                Link\n",
       "0  São Francisco      Estados Unidos     https://www.kaggle.com/titericz\n",
       "1          Volos                  GR     https://www.kaggle.com/kazanova\n",
       "2         Moscow  Russian Federation       https://www.kaggle.com/stasg7\n",
       "3                                     https://www.kaggle.com/bestfitting\n",
       "4    Deutschland                         https://www.kaggle.com/mmueller"
      ]
     },
     "execution_count": 4,
     "metadata": {},
     "output_type": "execute_result"
    }
   ],
   "source": [
    "import pandas as pd\n",
    "\n",
    "df = pd.DataFrame({'Link': urls, 'Country': countries, 'City': cities})\n",
    "df[df.City=='ul'][\"City\"] = ''\n",
    "df[df.Country=='ul'][\"Country\"] = ''\n",
    "df.head()"
   ]
  },
  {
   "cell_type": "code",
   "execution_count": 5,
   "metadata": {},
   "outputs": [
    {
     "name": "stdout",
     "output_type": "stream",
     "text": [
      "Saved\n"
     ]
    }
   ],
   "source": [
    "df.to_csv('data.csv', encoding='utf-8', index=False)\n",
    "print('Saved')"
   ]
  }
 ],
 "metadata": {
  "kernelspec": {
   "display_name": "Python 3",
   "language": "python",
   "name": "python3"
  },
  "language_info": {
   "codemirror_mode": {
    "name": "ipython",
    "version": 3
   },
   "file_extension": ".py",
   "mimetype": "text/x-python",
   "name": "python",
   "nbconvert_exporter": "python",
   "pygments_lexer": "ipython3",
   "version": "3.6.3"
  }
 },
 "nbformat": 4,
 "nbformat_minor": 2
}
